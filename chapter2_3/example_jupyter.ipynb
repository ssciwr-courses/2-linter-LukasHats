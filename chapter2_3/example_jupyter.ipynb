{
 "cells": [
  {
   "cell_type": "markdown",
   "metadata": {},
   "source": [
    "# This is a test for formatting jupyter notebooks using black"
   ]
  },
  {
   "cell_type": "code",
   "execution_count": 1,
   "metadata": {},
   "outputs": [],
   "source": [
    "import os\n",
    "\n",
    "import glob"
   ]
  },
  {
   "cell_type": "code",
   "execution_count": 2,
   "metadata": {},
   "outputs": [],
   "source": [
    "def find_files(path=None, pattern=\"*.png\", recursive=True, limit=20) -> list:\n",
    "    \"\"\"Find image files on the file system\n",
    "\n",
    "    :param path:\n",
    "        The base directory where we are looking for the images.\n",
    "        Defaults to None, which uses the XDG data directory if set or the current working directory otherwise.\n",
    "    :param pattern:\n",
    "        The naming pattern that the filename should match. Defaults to\n",
    "        \"*.png\". Can be used to allow other patterns or to only include\n",
    "        specific prefixes or suffixes.\n",
    "    :param recursive:\n",
    "        Whether to recurse into subdirectories.\n",
    "    :param limit:\n",
    "        The maximum number of images to be found. Defaults to 20.\n",
    "        To return all images, set to None.\n",
    "    \"\"\"\n",
    "    if path is None:\n",
    "        path = os.environ.get(\"XDG_DATA_HOME\", \".\")\n",
    "\n",
    "    result = list(glob.glob(f\"{path}/{pattern}\", recursive=recursive))\n",
    "\n",
    "    if limit is not None:\n",
    "        result = result[:limit]\n",
    "\n",
    "    return result"
   ]
  },
  {
   "cell_type": "code",
   "execution_count": 3,
   "metadata": {},
   "outputs": [
    {
     "name": "stdout",
     "output_type": "stream",
     "text": [
      "Found files []\n"
     ]
    }
   ],
   "source": [
    "mylist = find_files(path=\"../data/\")\n",
    "\n",
    "print(\"Found files {}\".format(mylist))"
   ]
  },
  {
   "cell_type": "code",
   "execution_count": null,
   "metadata": {},
   "outputs": [],
   "source": []
  }
 ],
 "metadata": {
  "kernelspec": {
   "display_name": "python_bestpractices",
   "language": "python",
   "name": "python3"
  },
  "language_info": {
   "codemirror_mode": {
    "name": "ipython",
    "version": 3
   },
   "file_extension": ".py",
   "mimetype": "text/x-python",
   "name": "python",
   "nbconvert_exporter": "python",
   "pygments_lexer": "ipython3",
   "version": "3.10.16"
  }
 },
 "nbformat": 4,
 "nbformat_minor": 2
}
